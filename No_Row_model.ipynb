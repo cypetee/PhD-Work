{
 "cells": [
  {
   "cell_type": "code",
   "execution_count": 1,
   "id": "d2adea78",
   "metadata": {},
   "outputs": [],
   "source": [
    "import pandas as pd\n",
    "import numpy as np\n",
    "import matplotlib.pyplot as plt\n",
    "from sklearn.preprocessing import StandardScaler\n",
    "from sklearn.neighbors import KNeighborsClassifier\n",
    "from sklearn.metrics import classification_report\n",
    "from sklearn.model_selection import GridSearchCV"
   ]
  },
  {
   "cell_type": "code",
   "execution_count": 2,
   "id": "5de2ff3f",
   "metadata": {},
   "outputs": [],
   "source": [
    "No_Row_training_set = pd.read_excel(r'C:\\Users\\onyekao\\OneDrive - Iowa State University\\Documents\\Spring 2023\\ML\\Cancer Data.xlsx', sheet_name='No Row Train')\n",
    "No_Row_test_set = pd.read_excel(r'C:\\Users\\onyekao\\OneDrive - Iowa State University\\Documents\\Spring 2023\\ML\\Cancer Data.xlsx', sheet_name='No Row Test')\n",
    "data =  pd.read_csv(r'C:\\Users\\onyekao\\OneDrive - Iowa State University\\Documents\\Spring 2023\\ML\\breast-cancer-wisconsin.csv')"
   ]
  },
  {
   "cell_type": "code",
   "execution_count": 3,
   "id": "32f97487",
   "metadata": {},
   "outputs": [],
   "source": [
    "X = data.iloc[:,1:10].to_numpy()\n",
    "y = data.iloc[:,10].to_numpy()"
   ]
  },
  {
   "cell_type": "code",
   "execution_count": 4,
   "id": "54e7cfcd",
   "metadata": {},
   "outputs": [],
   "source": [
    "No_Row_training_set['Class'] = No_Row_training_set['Class'].replace(2,0)\n",
    "No_Row_training_set['Class'] = No_Row_training_set['Class'].replace(4,1)\n",
    "No_Row_test_set['Class'] = No_Row_test_set['Class'].replace(2,0)\n",
    "No_Row_test_set['Class'] = No_Row_test_set['Class'].replace(4,1)"
   ]
  },
  {
   "cell_type": "code",
   "execution_count": 5,
   "id": "4ca5a928",
   "metadata": {},
   "outputs": [],
   "source": [
    "No_Row_y_train= No_Row_training_set.iloc[:,10].to_numpy()\n",
    "No_Row_X_train = No_Row_training_set.iloc[:,1:10].to_numpy()\n",
    "No_Row_y_test = No_Row_test_set.iloc[:,10].to_numpy()\n",
    "No_Row_X_test= No_Row_test_set.iloc[:,1:10].to_numpy()"
   ]
  },
  {
   "cell_type": "code",
   "execution_count": 6,
   "id": "e78107c5",
   "metadata": {},
   "outputs": [],
   "source": [
    "scaler = StandardScaler()\n",
    "No_Row_X_train = scaler.fit_transform(No_Row_X_train)\n",
    "No_Row_X_test = scaler.transform(No_Row_X_test)\n"
   ]
  },
  {
   "cell_type": "code",
   "execution_count": 7,
   "id": "d95ca8e6",
   "metadata": {},
   "outputs": [],
   "source": [
    "import numpy as np\n",
    "import matplotlib.pyplot as plt\n",
    "import pandas as pd\n",
    "\n",
    "def plot_decision_boundaries(X, y, model_class, **model_params):\n",
    "    \"\"\"\n",
    "    Function to plot the decision boundaries of a classification model.\n",
    "    This uses just the first two columns of the data for fitting \n",
    "    the model as we need to find the predicted value for every point in \n",
    "    scatter plot.\n",
    "    Arguments:\n",
    "            X: Feature data as a NumPy-type array.\n",
    "            y: Label data as a NumPy-type array.\n",
    "            model_class: A Scikit-learn ML estimator class \n",
    "            e.g. GaussianNB (imported from sklearn.naive_bayes) or\n",
    "            LogisticRegression (imported from sklearn.linear_model)\n",
    "            **model_params: Model parameters to be passed on to the ML estimator\n",
    "    \n",
    "    Typical code example:\n",
    "            plt.figure()\n",
    "            plt.title(\"KNN decision boundary with neighbros: 5\",fontsize=16)\n",
    "            plot_decision_boundaries(X_train,y_train,KNeighborsClassifier,n_neighbors=5)\n",
    "            plt.show()\n",
    "    \"\"\"\n",
    "    try:\n",
    "        X = np.array(X)\n",
    "        y = np.array(y).flatten()\n",
    "    except:\n",
    "        print(\"Coercing input data to NumPy arrays failed\")\n",
    "    # Reduces to the first two columns of data\n",
    "    reduced_data = X[:, :2]\n",
    "    # Instantiate the model object\n",
    "    model = model_class(**model_params)\n",
    "    # Fits the model with the reduced data\n",
    "    model.fit(reduced_data, y)\n",
    "\n",
    "    # Step size of the mesh. Decrease to increase the quality of the VQ.\n",
    "    h = .02     # point in the mesh [x_min, m_max]x[y_min, y_max].    \n",
    "\n",
    "    # Plot the decision boundary. For that, we will assign a color to each\n",
    "    x_min, x_max = reduced_data[:, 0].min() - 1, reduced_data[:, 0].max() + 1\n",
    "    y_min, y_max = reduced_data[:, 1].min() - 1, reduced_data[:, 1].max() + 1\n",
    "    # Meshgrid creation\n",
    "    xx, yy = np.meshgrid(np.arange(x_min, x_max, h), np.arange(y_min, y_max, h))\n",
    "\n",
    "    # Obtain labels for each point in mesh using the model.\n",
    "    Z = model.predict(np.c_[xx.ravel(), yy.ravel()])    \n",
    "\n",
    "    x_min, x_max = X[:, 0].min() - 1, X[:, 0].max() + 1\n",
    "    y_min, y_max = X[:, 1].min() - 1, X[:, 1].max() + 1\n",
    "    xx, yy = np.meshgrid(np.arange(x_min, x_max, 0.1),\n",
    "                         np.arange(y_min, y_max, 0.1))\n",
    "\n",
    "    # Predictions to obtain the classification results\n",
    "    Z = model.predict(np.c_[xx.ravel(), yy.ravel()]).reshape(xx.shape)\n",
    "\n",
    "    # Plotting\n",
    "    plt.contourf(xx, yy, Z, alpha=0.4)\n",
    "    plt.scatter(X[:, 0], X[:, 1], c=y, alpha=0.8)\n",
    "    plt.xlabel(\"Clump thickness\",fontsize=8)\n",
    "    plt.ylabel(\"Uniformity of Cell Size\",fontsize=8)\n",
    "    plt.xticks(fontsize=14)\n",
    "    plt.yticks(fontsize=14)\n",
    "    return plt"
   ]
  },
  {
   "cell_type": "code",
   "execution_count": 8,
   "id": "20493eaf",
   "metadata": {},
   "outputs": [
    {
     "data": {
      "image/png": "[encoded data removed]",
      "text/plain": [
       "<Figure size 432x288 with 1 Axes>"
      ]
     },
     "metadata": {
      "needs_background": "light"
     },
     "output_type": "display_data"
    }
   ],
   "source": [
    "plt.figure()\n",
    "plt.title('k-NN decision boundary (k=19)')\n",
    "plot_decision_boundaries(No_Row_X_train, No_Row_y_train, KNeighborsClassifier, n_neighbors=19, metric= 'euclidean', weights= 'uniform')\n",
    "model = KNeighborsClassifier( n_neighbors=19, metric= 'euclidean', weights= 'uniform')\n",
    "\n",
    "    \n",
    "    \n",
    "    "
   ]
  },
  {
   "cell_type": "code",
   "execution_count": 9,
   "id": "d4c7e0a0",
   "metadata": {},
   "outputs": [],
   "source": [
    "\n",
    "model.fit(No_Row_X_train, No_Row_y_train)\n",
    "No_Row_y_pred = model.predict(No_Row_X_test)"
   ]
  },
  {
   "cell_type": "code",
   "execution_count": 10,
   "id": "5ef91628",
   "metadata": {},
   "outputs": [
    {
     "data": {
      "text/plain": [
       "array([1, 0, 0, 0, 0, 0, 0, 0, 0, 0, 0, 0, 0, 0, 0, 0, 0, 0, 0, 0, 0, 0,\n",
       "       0, 0, 0, 1, 0, 1, 0, 0, 0, 0, 0, 0, 0, 0, 0, 0, 0, 0, 0, 0, 0, 0,\n",
       "       0, 0, 0, 0, 0, 0, 0, 0, 0, 0, 0, 0, 0, 0, 0, 0, 0, 0, 0, 0, 0, 0,\n",
       "       0, 0, 0, 0, 0, 1, 0, 0, 0, 0, 0, 0, 0, 0, 0, 0, 0, 1, 0, 1, 0, 0,\n",
       "       0, 0, 0, 0, 0, 0, 0, 0, 0], dtype=int64)"
      ]
     },
     "execution_count": 10,
     "metadata": {},
     "output_type": "execute_result"
    }
   ],
   "source": [
    "No_Row_y_pred"
   ]
  },
  {
   "cell_type": "code",
   "execution_count": 11,
   "id": "19507b63",
   "metadata": {},
   "outputs": [
    {
     "name": "stdout",
     "output_type": "stream",
     "text": [
      "Accuracy: 0.9896907216494846\n",
      "Precision: 0.8333333333333334\n",
      "Recall: 1.0\n",
      "F1 score: 0.9090909090909091\n"
     ]
    }
   ],
   "source": [
    "from sklearn.metrics import accuracy_score, precision_score, recall_score, f1_score\n",
    "print(\"Accuracy:\", accuracy_score(No_Row_y_test, No_Row_y_pred))\n",
    "print(\"Precision:\", precision_score(No_Row_y_test, No_Row_y_pred))\n",
    "print(\"Recall:\", recall_score(No_Row_y_test, No_Row_y_pred))\n",
    "print(\"F1 score:\", f1_score(No_Row_y_test, No_Row_y_pred))"
   ]
  },
  {
   "cell_type": "code",
   "execution_count": 13,
   "id": "233dd357",
   "metadata": {},
   "outputs": [
    {
     "name": "stdout",
     "output_type": "stream",
     "text": [
      "Best: 0.963846 using {'metric': 'euclidean', 'n_neighbors': 19, 'weights': 'uniform'}\n",
      "0.937911 (0.034497) with: {'metric': 'euclidean', 'n_neighbors': 1, 'weights': 'uniform'}\n",
      "0.937911 (0.034497) with: {'metric': 'euclidean', 'n_neighbors': 1, 'weights': 'distance'}\n",
      "0.958362 (0.029723) with: {'metric': 'euclidean', 'n_neighbors': 3, 'weights': 'uniform'}\n",
      "0.958362 (0.029723) with: {'metric': 'euclidean', 'n_neighbors': 3, 'weights': 'distance'}\n",
      "0.960445 (0.024721) with: {'metric': 'euclidean', 'n_neighbors': 5, 'weights': 'uniform'}\n",
      "0.961125 (0.024956) with: {'metric': 'euclidean', 'n_neighbors': 5, 'weights': 'distance'}\n",
      "0.958376 (0.023981) with: {'metric': 'euclidean', 'n_neighbors': 7, 'weights': 'uniform'}\n",
      "0.959736 (0.023988) with: {'metric': 'euclidean', 'n_neighbors': 7, 'weights': 'distance'}\n",
      "0.959084 (0.020453) with: {'metric': 'euclidean', 'n_neighbors': 9, 'weights': 'uniform'}\n",
      "0.959084 (0.020453) with: {'metric': 'euclidean', 'n_neighbors': 9, 'weights': 'distance'}\n",
      "0.961125 (0.019311) with: {'metric': 'euclidean', 'n_neighbors': 11, 'weights': 'uniform'}\n",
      "0.961125 (0.019311) with: {'metric': 'euclidean', 'n_neighbors': 11, 'weights': 'distance'}\n",
      "0.962486 (0.020526) with: {'metric': 'euclidean', 'n_neighbors': 13, 'weights': 'uniform'}\n",
      "0.962486 (0.020526) with: {'metric': 'euclidean', 'n_neighbors': 13, 'weights': 'distance'}\n",
      "0.961791 (0.021679) with: {'metric': 'euclidean', 'n_neighbors': 15, 'weights': 'uniform'}\n",
      "0.961791 (0.021679) with: {'metric': 'euclidean', 'n_neighbors': 15, 'weights': 'distance'}\n",
      "0.961791 (0.022311) with: {'metric': 'euclidean', 'n_neighbors': 17, 'weights': 'uniform'}\n",
      "0.961791 (0.022311) with: {'metric': 'euclidean', 'n_neighbors': 17, 'weights': 'distance'}\n",
      "0.963846 (0.020934) with: {'metric': 'euclidean', 'n_neighbors': 19, 'weights': 'uniform'}\n",
      "0.963846 (0.020934) with: {'metric': 'euclidean', 'n_neighbors': 19, 'weights': 'distance'}\n",
      "0.950198 (0.034105) with: {'metric': 'manhattan', 'n_neighbors': 1, 'weights': 'uniform'}\n",
      "0.950198 (0.034105) with: {'metric': 'manhattan', 'n_neighbors': 1, 'weights': 'distance'}\n",
      "0.956321 (0.028904) with: {'metric': 'manhattan', 'n_neighbors': 3, 'weights': 'uniform'}\n",
      "0.958362 (0.028307) with: {'metric': 'manhattan', 'n_neighbors': 3, 'weights': 'distance'}\n",
      "0.960402 (0.024336) with: {'metric': 'manhattan', 'n_neighbors': 5, 'weights': 'uniform'}\n",
      "0.961083 (0.024577) with: {'metric': 'manhattan', 'n_neighbors': 5, 'weights': 'distance'}\n",
      "0.954280 (0.027891) with: {'metric': 'manhattan', 'n_neighbors': 7, 'weights': 'uniform'}\n",
      "0.958362 (0.025739) with: {'metric': 'manhattan', 'n_neighbors': 7, 'weights': 'distance'}\n",
      "0.956321 (0.025319) with: {'metric': 'manhattan', 'n_neighbors': 9, 'weights': 'uniform'}\n",
      "0.959070 (0.022462) with: {'metric': 'manhattan', 'n_neighbors': 9, 'weights': 'distance'}\n",
      "0.957681 (0.027533) with: {'metric': 'manhattan', 'n_neighbors': 11, 'weights': 'uniform'}\n",
      "0.959042 (0.026548) with: {'metric': 'manhattan', 'n_neighbors': 11, 'weights': 'distance'}\n",
      "0.959722 (0.026280) with: {'metric': 'manhattan', 'n_neighbors': 13, 'weights': 'uniform'}\n",
      "0.961791 (0.022924) with: {'metric': 'manhattan', 'n_neighbors': 13, 'weights': 'distance'}\n",
      "0.960402 (0.024900) with: {'metric': 'manhattan', 'n_neighbors': 15, 'weights': 'uniform'}\n",
      "0.960402 (0.024900) with: {'metric': 'manhattan', 'n_neighbors': 15, 'weights': 'distance'}\n",
      "0.960402 (0.024900) with: {'metric': 'manhattan', 'n_neighbors': 17, 'weights': 'uniform'}\n",
      "0.961083 (0.024005) with: {'metric': 'manhattan', 'n_neighbors': 17, 'weights': 'distance'}\n",
      "0.959042 (0.026548) with: {'metric': 'manhattan', 'n_neighbors': 19, 'weights': 'uniform'}\n",
      "0.960417 (0.024864) with: {'metric': 'manhattan', 'n_neighbors': 19, 'weights': 'distance'}\n",
      "0.937911 (0.034497) with: {'metric': 'minkowski', 'n_neighbors': 1, 'weights': 'uniform'}\n",
      "0.937911 (0.034497) with: {'metric': 'minkowski', 'n_neighbors': 1, 'weights': 'distance'}\n",
      "0.958362 (0.029723) with: {'metric': 'minkowski', 'n_neighbors': 3, 'weights': 'uniform'}\n",
      "0.958362 (0.029723) with: {'metric': 'minkowski', 'n_neighbors': 3, 'weights': 'distance'}\n",
      "0.960445 (0.024721) with: {'metric': 'minkowski', 'n_neighbors': 5, 'weights': 'uniform'}\n",
      "0.961125 (0.024956) with: {'metric': 'minkowski', 'n_neighbors': 5, 'weights': 'distance'}\n",
      "0.958376 (0.023981) with: {'metric': 'minkowski', 'n_neighbors': 7, 'weights': 'uniform'}\n",
      "0.959736 (0.023988) with: {'metric': 'minkowski', 'n_neighbors': 7, 'weights': 'distance'}\n",
      "0.959084 (0.020453) with: {'metric': 'minkowski', 'n_neighbors': 9, 'weights': 'uniform'}\n",
      "0.959084 (0.020453) with: {'metric': 'minkowski', 'n_neighbors': 9, 'weights': 'distance'}\n",
      "0.961125 (0.019311) with: {'metric': 'minkowski', 'n_neighbors': 11, 'weights': 'uniform'}\n",
      "0.961125 (0.019311) with: {'metric': 'minkowski', 'n_neighbors': 11, 'weights': 'distance'}\n",
      "0.962486 (0.020526) with: {'metric': 'minkowski', 'n_neighbors': 13, 'weights': 'uniform'}\n",
      "0.962486 (0.020526) with: {'metric': 'minkowski', 'n_neighbors': 13, 'weights': 'distance'}\n",
      "0.961791 (0.021679) with: {'metric': 'minkowski', 'n_neighbors': 15, 'weights': 'uniform'}\n",
      "0.961791 (0.021679) with: {'metric': 'minkowski', 'n_neighbors': 15, 'weights': 'distance'}\n",
      "0.961791 (0.022311) with: {'metric': 'minkowski', 'n_neighbors': 17, 'weights': 'uniform'}\n",
      "0.961791 (0.022311) with: {'metric': 'minkowski', 'n_neighbors': 17, 'weights': 'distance'}\n",
      "0.963846 (0.020934) with: {'metric': 'minkowski', 'n_neighbors': 19, 'weights': 'uniform'}\n",
      "0.963846 (0.020934) with: {'metric': 'minkowski', 'n_neighbors': 19, 'weights': 'distance'}\n"
     ]
    }
   ],
   "source": [
    "# from sklearn.datasets import make_blobs\n",
    "from sklearn.model_selection import RepeatedStratifiedKFold\n",
    "from sklearn.model_selection import GridSearchCV\n",
    "from sklearn.neighbors import KNeighborsClassifier\n",
    "# define dataset\n",
    "# X, y = make_blobs(n_samples=1000, centers=2, n_features=100, cluster_std=20)\n",
    "# define models and parameters\n",
    "model = KNeighborsClassifier()\n",
    "n_neighbors = range(1, 21, 2)\n",
    "weights = ['uniform', 'distance']\n",
    "metric = ['euclidean', 'manhattan', 'minkowski']\n",
    "# define grid search\n",
    "grid = dict(n_neighbors=n_neighbors,weights=weights,metric=metric)\n",
    "cv = RepeatedStratifiedKFold(n_splits=10, n_repeats=3, random_state=1)\n",
    "grid_search = GridSearchCV(estimator=model, param_grid=grid, n_jobs=-1, cv=cv, scoring='accuracy',error_score=0)\n",
    "grid_result = grid_search.fit(No_Row_X_train, No_Row_y_train)\n",
    "# summarize results\n",
    "print(\"Best: %f using %s\" % (grid_result.best_score_, grid_result.best_params_))\n",
    "means = grid_result.cv_results_['mean_test_score']\n",
    "stds = grid_result.cv_results_['std_test_score']\n",
    "params = grid_result.cv_results_['params']\n",
    "for mean, stdev, param in zip(means, stds, params):\n",
    "    print(\"%f (%f) with: %r\" % (mean, stdev, param))\n"
   ]
  }
 ],
 "metadata": {
  "kernelspec": {
   "display_name": "Python 3",
   "language": "python",
   "name": "python3"
  },
  "language_info": {
   "codemirror_mode": {
    "name": "ipython",
    "version": 3
   },
   "file_extension": ".py",
   "mimetype": "text/x-python",
   "name": "python",
   "nbconvert_exporter": "python",
   "pygments_lexer": "ipython3",
   "version": "3.8.8"
  }
 },
 "nbformat": 4,
 "nbformat_minor": 5
}
